{
  "cells": [
    {
      "cell_type": "markdown",
      "metadata": {
        "id": "VWQOkPYNtuB5"
      },
      "source": [
        "#Numpy Array\n"
      ]
    },
    {
      "cell_type": "markdown",
      "metadata": {
        "id": "HqxRJwULpYfD"
      },
      "source": [
        "Time(Numpy VS List)"
      ]
    },
    {
      "cell_type": "markdown",
      "metadata": {
        "id": "_InMX_AZpg6e"
      },
      "source": [
        "List\n"
      ]
    },
    {
      "cell_type": "code",
      "execution_count": null,
      "metadata": {
        "id": "4TpL6Okqpij1"
      },
      "outputs": [],
      "source": [
        "import numpy as np"
      ]
    },
    {
      "cell_type": "code",
      "execution_count": null,
      "metadata": {
        "id": "DtxTd9tRpoPO"
      },
      "outputs": [],
      "source": [
        "from time import process_time"
      ]
    },
    {
      "cell_type": "code",
      "execution_count": null,
      "metadata": {
        "colab": {
          "base_uri": "https://localhost:8080/"
        },
        "id": "lO3Hf-lrpxoH",
        "outputId": "c76178fc-ce38-4896-e728-4e6adf3a3923"
      },
      "outputs": [
        {
          "name": "stdout",
          "output_type": "stream",
          "text": [
            "Time taken for process : 0.0001919709999995689\n"
          ]
        }
      ],
      "source": [
        "my_list=[i for i in range(1000)]\n",
        "start_time=process_time()\n",
        "my_list=[i+5 for i in range (1000)]\n",
        "end_time=process_time()\n",
        "print(\"Time taken for process :\",-(start_time-end_time))\n"
      ]
    },
    {
      "cell_type": "markdown",
      "metadata": {
        "id": "VlDncrkirJtZ"
      },
      "source": [
        "numpy array\n"
      ]
    },
    {
      "cell_type": "markdown",
      "metadata": {
        "id": "sIB_msLutGsw"
      },
      "source": []
    },
    {
      "cell_type": "code",
      "execution_count": null,
      "metadata": {
        "colab": {
          "base_uri": "https://localhost:8080/"
        },
        "id": "cctpTdmrrJWk",
        "outputId": "0a18af7c-4ce0-4287-ba15-5e0306b60268"
      },
      "outputs": [
        {
          "name": "stdout",
          "output_type": "stream",
          "text": [
            "Time taken for process : 0.00013237100000118573\n"
          ]
        }
      ],
      "source": [
        "np_array=np.array([i for i in range(1000)])\n",
        "start_time=process_time()\n",
        "np_array+=5\n",
        "end_time=process_time()\n",
        "print(\"Time taken for process :\",-(start_time-end_time))"
      ]
    },
    {
      "cell_type": "markdown",
      "metadata": {},
      "source": [
        "#Numpy Array Analysis\n"
      ]
    },
    {
      "cell_type": "code",
      "execution_count": null,
      "metadata": {
        "colab": {
          "base_uri": "https://localhost:8080/"
        },
        "id": "SxK-hlZWty-O",
        "outputId": "10c9f5eb-3dc5-4a1e-9944-b1862dbfd329"
      },
      "outputs": [
        {
          "name": "stdout",
          "output_type": "stream",
          "text": [
            "[1 2 3 4 5]\n"
          ]
        },
        {
          "data": {
            "text/plain": [
              "numpy.ndarray"
            ]
          },
          "execution_count": 7,
          "metadata": {},
          "output_type": "execute_result"
        }
      ],
      "source": [
        "num_arr=np.array([1,2,3,4,5])\n",
        "print(num_arr)\n",
        "type(num_arr)"
      ]
    },
    {
      "cell_type": "code",
      "execution_count": null,
      "metadata": {
        "colab": {
          "base_uri": "https://localhost:8080/"
        },
        "id": "SCpWmcqSt7I7",
        "outputId": "6d4a9841-1380-4340-8aaa-32a6ee2bbcf3"
      },
      "outputs": [
        {
          "data": {
            "text/plain": [
              "(5,)"
            ]
          },
          "execution_count": 8,
          "metadata": {},
          "output_type": "execute_result"
        }
      ],
      "source": [
        "num_arr.shape"
      ]
    },
    {
      "cell_type": "code",
      "execution_count": null,
      "metadata": {
        "id": "E9rIqb5ruHAr"
      },
      "outputs": [],
      "source": [
        "arr2=np.array([(1,2,3),(1,5,6),(4,85,5)])\n"
      ]
    },
    {
      "cell_type": "code",
      "execution_count": null,
      "metadata": {
        "colab": {
          "base_uri": "https://localhost:8080/"
        },
        "id": "QP95_IXquRhW",
        "outputId": "2bcbcbb3-a2d9-4d2b-d330-d829cfec447e"
      },
      "outputs": [
        {
          "name": "stdout",
          "output_type": "stream",
          "text": [
            "[[ 1  2  3]\n",
            " [ 1  5  6]\n",
            " [ 4 85  5]]\n"
          ]
        }
      ],
      "source": [
        "print(arr2)"
      ]
    },
    {
      "cell_type": "code",
      "execution_count": null,
      "metadata": {
        "id": "2AqrzLk2v2rb"
      },
      "outputs": [],
      "source": [
        "a=np.eye(4)"
      ]
    },
    {
      "cell_type": "code",
      "execution_count": null,
      "metadata": {
        "colab": {
          "base_uri": "https://localhost:8080/"
        },
        "id": "up7dHVXMv-6y",
        "outputId": "e928a248-fe47-436c-94eb-28c0b0a10cbd"
      },
      "outputs": [
        {
          "name": "stdout",
          "output_type": "stream",
          "text": [
            "[[1. 0. 0. 0.]\n",
            " [0. 1. 0. 0.]\n",
            " [0. 0. 1. 0.]\n",
            " [0. 0. 0. 1.]]\n",
            "[[11. 10. 10. 10.]\n",
            " [10. 11. 10. 10.]\n",
            " [10. 10. 11. 10.]\n",
            " [10. 10. 10. 11.]]\n"
          ]
        }
      ],
      "source": [
        "print(a)\n",
        "print(a+10)"
      ]
    },
    {
      "cell_type": "code",
      "execution_count": null,
      "metadata": {
        "id": "4XB-ckZbwW4M"
      },
      "outputs": [],
      "source": [
        "b=np.random.rand(3,3)"
      ]
    },
    {
      "cell_type": "code",
      "execution_count": null,
      "metadata": {
        "colab": {
          "base_uri": "https://localhost:8080/"
        },
        "id": "U0fuVR6iwfTF",
        "outputId": "95c6eb53-8506-4a53-9a94-d97ed55aed0e"
      },
      "outputs": [
        {
          "name": "stdout",
          "output_type": "stream",
          "text": [
            "[[0.60773888 0.77079279 0.72507705]\n",
            " [0.21017928 0.46269454 0.06587289]\n",
            " [0.23161018 0.82500166 0.24329842]]\n"
          ]
        }
      ],
      "source": [
        "print(b)"
      ]
    },
    {
      "cell_type": "code",
      "execution_count": null,
      "metadata": {
        "id": "0RUbfKx0wlEt"
      },
      "outputs": [],
      "source": [
        "c=np.random.randint(10,100,(4,5))"
      ]
    },
    {
      "cell_type": "code",
      "execution_count": null,
      "metadata": {
        "colab": {
          "base_uri": "https://localhost:8080/"
        },
        "id": "ji-2sDvnwyZd",
        "outputId": "61311ee3-c4c2-43bf-8048-172390a31879"
      },
      "outputs": [
        {
          "name": "stdout",
          "output_type": "stream",
          "text": [
            "[[67 98 16 21 94]\n",
            " [27 10 27 29 92]\n",
            " [74 71 71 24 41]\n",
            " [78 45 39 99 64]]\n"
          ]
        }
      ],
      "source": [
        "print(c )"
      ]
    },
    {
      "cell_type": "markdown",
      "metadata": {
        "id": "0jnNS6uCFTFH"
      },
      "source": [
        "#Numpy Array Analysis\n"
      ]
    },
    {
      "cell_type": "code",
      "execution_count": null,
      "metadata": {
        "id": "UkhLo9fzFk4Z"
      },
      "outputs": [],
      "source": [
        "x=np.random.randint(10,100,(4,5))"
      ]
    },
    {
      "cell_type": "code",
      "execution_count": null,
      "metadata": {
        "colab": {
          "base_uri": "https://localhost:8080/"
        },
        "id": "fYPQ8icgF4qM",
        "outputId": "02f447e5-eb09-4365-941c-fa5cac29926d"
      },
      "outputs": [
        {
          "name": "stdout",
          "output_type": "stream",
          "text": [
            "[[48 41 38 72 58]\n",
            " [74 21 20 83 84]\n",
            " [65 45 65 84 53]\n",
            " [37 10 19 87 96]]\n"
          ]
        }
      ],
      "source": [
        "print(x)"
      ]
    },
    {
      "cell_type": "markdown",
      "metadata": {
        "id": "BQfK8176FYM_"
      },
      "source": []
    },
    {
      "cell_type": "code",
      "execution_count": null,
      "metadata": {
        "colab": {
          "base_uri": "https://localhost:8080/"
        },
        "id": "QgnHvX-_GAfY",
        "outputId": "7889c448-eb6e-45e8-8643-0b30db6efc6e"
      },
      "outputs": [
        {
          "data": {
            "text/plain": [
              "(4, 5)"
            ]
          },
          "execution_count": 7,
          "metadata": {},
          "output_type": "execute_result"
        }
      ],
      "source": [
        "x.shape"
      ]
    },
    {
      "cell_type": "code",
      "execution_count": null,
      "metadata": {
        "colab": {
          "base_uri": "https://localhost:8080/"
        },
        "id": "-FwIpp4wGYoq",
        "outputId": "4b728356-3264-4b33-93c3-1d647fe7c813"
      },
      "outputs": [
        {
          "data": {
            "text/plain": [
              "20"
            ]
          },
          "execution_count": 9,
          "metadata": {},
          "output_type": "execute_result"
        }
      ],
      "source": [
        "x  .size"
      ]
    },
    {
      "cell_type": "code",
      "execution_count": null,
      "metadata": {
        "id": "XGr6YsRPIJRT"
      },
      "outputs": [],
      "source": [
        "y=np.random.randint(10,100,(4,5))\n"
      ]
    },
    {
      "cell_type": "code",
      "execution_count": null,
      "metadata": {
        "colab": {
          "base_uri": "https://localhost:8080/"
        },
        "id": "D_6eW2E4INji",
        "outputId": "b890ea0e-d407-4ec3-a61b-7f9e814c1557"
      },
      "outputs": [
        {
          "name": "stdout",
          "output_type": "stream",
          "text": [
            "[[111 111  50 163  91]\n",
            " [ 86 115 110 100 173]\n",
            " [149  99  92 179 137]\n",
            " [ 89  20  64  97 173]]\n"
          ]
        }
      ],
      "source": [
        "print(x+y)"
      ]
    }
  ],
  "metadata": {
    "colab": {
      "provenance": []
    },
    "kernelspec": {
      "display_name": "Python 3",
      "name": "python3"
    },
    "language_info": {
      "name": "python"
    }
  },
  "nbformat": 4,
  "nbformat_minor": 0
}
